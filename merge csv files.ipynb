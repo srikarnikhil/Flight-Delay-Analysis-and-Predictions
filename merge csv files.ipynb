{
 "cells": [
  {
   "cell_type": "code",
   "execution_count": 1,
   "id": "33fa9622",
   "metadata": {},
   "outputs": [],
   "source": [
    "import csv\n",
    "import os\n",
    "\n",
    "# Specify the local directory where the CSV files are stored\n",
    "local_directory = 'D:\\\\AA UMBC COURSES\\\\603\\\\project\\\\final_presentation and notebook\\\\final_data'\n",
    "\n",
    "# Get a list of all CSV files in the local directory\n",
    "csv_files = os.listdir(local_directory)\n",
    "\n",
    "# Create a new CSV file to store the merged data\n",
    "with open('merged.csv', 'w', newline='') as merged_file:\n",
    "    writer = csv.writer(merged_file)\n",
    "\n",
    "    # Loop over all CSV files\n",
    "    for csv_file in csv_files:\n",
    "        # Open the CSV file\n",
    "        with open(f'{local_directory}/{csv_file}', 'r', newline='') as csv_file:\n",
    "            reader = csv.reader(csv_file)\n",
    "\n",
    "            # Loop over all rows in the CSV file\n",
    "            for row in reader:\n",
    "                # Replace any empty values with 0\n",
    "                for i, value in enumerate(row):\n",
    "                    if value == '':\n",
    "                        row[i] = 0\n",
    "\n",
    "                # Write the row to the merged CSV file\n",
    "                writer.writerow(row)"
   ]
  },
  {
   "cell_type": "code",
   "execution_count": 2,
   "id": "c28ead85",
   "metadata": {},
   "outputs": [
    {
     "name": "stdout",
     "output_type": "stream",
     "text": [
      "14266770\n"
     ]
    }
   ],
   "source": [
    "import os\n",
    "import csv\n",
    "\n",
    "# Specify the local directory where the CSV files are stored\n",
    "local_directory = 'D:\\\\AA UMBC COURSES\\\\603\\\\project\\\\final_presentation and notebook\\\\final_data'\n",
    "\n",
    "# Get a list of all CSV files in the local directory\n",
    "csv_files = os.listdir(local_directory)\n",
    "\n",
    "# Initialize the total number of rows to 0\n",
    "total_rows = 0\n",
    "\n",
    "# Loop over all CSV files\n",
    "for csv_file in csv_files:\n",
    "    # Open the CSV file\n",
    "    with open(f'{local_directory}/{csv_file}', 'r', newline='') as csv_file:\n",
    "        reader = csv.reader(csv_file)\n",
    "\n",
    "        # Loop over all rows in the CSV file\n",
    "        for row in reader:\n",
    "            # Increment the total number of rows by 1\n",
    "            total_rows += 1\n",
    "\n",
    "# Print the total number of rows\n",
    "print(total_rows)"
   ]
  },
  {
   "cell_type": "code",
   "execution_count": 3,
   "id": "cc5438a3",
   "metadata": {},
   "outputs": [
    {
     "name": "stdout",
     "output_type": "stream",
     "text": [
      "14266770\n"
     ]
    }
   ],
   "source": [
    "import csv\n",
    "\n",
    "# Open the CSV file\n",
    "with open('merged.csv', 'r', newline='') as merged_file:\n",
    "    reader = csv.reader(merged_file)\n",
    "\n",
    "    # Get the total number of rows\n",
    "    total_rows = sum(1 for row in reader)\n",
    "\n",
    "# Print the total number of rows\n",
    "print(total_rows)"
   ]
  },
  {
   "cell_type": "code",
   "execution_count": null,
   "id": "a3561401",
   "metadata": {},
   "outputs": [],
   "source": []
  }
 ],
 "metadata": {
  "kernelspec": {
   "display_name": "Python 3 (ipykernel)",
   "language": "python",
   "name": "python3"
  },
  "language_info": {
   "codemirror_mode": {
    "name": "ipython",
    "version": 3
   },
   "file_extension": ".py",
   "mimetype": "text/x-python",
   "name": "python",
   "nbconvert_exporter": "python",
   "pygments_lexer": "ipython3",
   "version": "3.10.9"
  }
 },
 "nbformat": 4,
 "nbformat_minor": 5
}
